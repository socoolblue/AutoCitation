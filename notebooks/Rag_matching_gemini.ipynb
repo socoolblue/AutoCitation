{
 "cells": [
  {
   "cell_type": "code",
   "execution_count": 5,
   "id": "c965eccf",
   "metadata": {},
   "outputs": [],
   "source": [
    "from utilsgemini import *\n",
    "\n",
    "# Step 1: Process reference papers\n",
    "print(\"Processing reference papers...\")\n",
    "documents = process_reference_papers_txt(txt_folder)\n",
    "\n",
    "# Step 2: Build vector store\n",
    "print(\"Building vector store...\")\n",
    "vector_store = build_vector_store(documents)\n",
    "\n",
    "# Step 3: Input introduction section\n",
    "intro_text = \"\"\" text with [ref1] indicators... \"\"\"\n",
    "    \n",
    "cleaned_intro, ground_truth = preprocess_introduction(intro_text)\n",
    "\n",
    "# Step 4: Predict references\n",
    "print(\"Predicting references...\")\n",
    "faiss_references_dict = predict_references_with_RAG(vector_store, cleaned_intro)\n",
    "\n",
    "# Step 5: Assess predictions (if in assessment mode)\n",
    "print(\"Assessing predictions...\")\n",
    "detailed_report, overall_score = evaluate_predictions(ground_truth, faiss_references_dict)\n",
    "\n",
    "# Output results\n",
    "print(\"\\nDetailed Report:\")\n",
    "for item in detailed_report:\n",
    "    print(item)\n",
    "print(f\"\\noverall_score: {overall_score*100:.2f}%\")\n"
   ]
  },
  {
   "cell_type": "code",
   "execution_count": null,
   "id": "5ab91de9-4db7-432a-bd64-909fb8c7ebf1",
   "metadata": {},
   "outputs": [],
   "source": []
  }
 ],
 "metadata": {
  "kernelspec": {
   "display_name": "Python 3 (ipykernel)",
   "language": "python",
   "name": "python3"
  },
  "language_info": {
   "codemirror_mode": {
    "name": "ipython",
    "version": 3
   },
   "file_extension": ".py",
   "mimetype": "text/x-python",
   "name": "python",
   "nbconvert_exporter": "python",
   "pygments_lexer": "ipython3",
   "version": "3.10.18"
  }
 },
 "nbformat": 4,
 "nbformat_minor": 5
}
