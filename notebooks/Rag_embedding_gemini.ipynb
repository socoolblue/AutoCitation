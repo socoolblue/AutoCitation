{
 "cells": [
  {
   "cell_type": "code",
   "execution_count": 2,
   "id": "f6765e07-ff7f-4429-8d17-9fdb9ff249f9",
   "metadata": {
    "scrolled": true
   },
   "outputs": [
    {
     "name": "stdout",
     "output_type": "stream",
     "text": [
      "Processing reference papers...\n",
      "PS_2-11.txt\n",
      "PS_2-23.txt\n",
      "PS_2-24.txt\n",
      "PS_2-25.txt\n",
      "PS_2-29.txt\n",
      "PS_2-3.txt\n",
      "PS_2-33.txt\n",
      "PS_2-37.txt\n",
      "PS_2-42.txt\n",
      "PS_2-43.txt\n",
      "PS_2-46.txt\n",
      "PS_2-49.txt\n",
      "PS_2-53.txt\n",
      "PS_2-54.txt\n",
      "PS_2-55.txt\n",
      "PS_2-58.txt\n",
      "PS_2-59.txt\n",
      "PS_2-6.txt\n",
      "PS_2-64.txt\n",
      "PS_2-65.txt\n",
      "PS_2-66.txt\n",
      "PS_2-67.txt\n",
      "PS_2-7.txt\n",
      "PS_2-70.txt\n",
      "PS_2-73.txt\n",
      "PS_2-78.txt\n",
      "PS_2-79.txt\n",
      "PS_2-80.txt\n",
      "PS_2-85.txt\n",
      "PS_2-86.txt\n",
      "Building vector store...\n",
      " Embeddings file not found. Creating embeddings...\n",
      " Generated embedding for chunk 1/1690\n"
     ]
    },
    {
     "name": "stderr",
     "output_type": "stream",
     "text": [
      "\n",
      "KeyboardInterrupt\n",
      "\n"
     ]
    }
   ],
   "source": [
    "import os\n",
    "import pickle\n",
    "from utilsgemini import *\n",
    "\n",
    "# Configuration\n",
    "txt_folder = \"Enter your file path here\"\n",
    "embedding_file = txt_folder + \"Enter your pkl file here\"\n",
    "\n",
    "# Step 1: Process reference papers\n",
    "print(\"Processing reference papers...\")\n",
    "documents = process_reference_papers_txt(txt_folder)\n",
    "\n",
    "# Step 2: Build vector store\n",
    "print(\"Building vector store...\")\n",
    "vector_store = build_vector_store(documents, embedding_file=embedding_file) "
   ]
  },
  {
   "cell_type": "code",
   "execution_count": null,
   "id": "9d867674-bf2d-4203-b060-a112aeadf22c",
   "metadata": {},
   "outputs": [],
   "source": []
  }
 ],
 "metadata": {
  "kernelspec": {
   "display_name": "Python 3 (ipykernel)",
   "language": "python",
   "name": "python3"
  },
  "language_info": {
   "codemirror_mode": {
    "name": "ipython",
    "version": 3
   },
   "file_extension": ".py",
   "mimetype": "text/x-python",
   "name": "python",
   "nbconvert_exporter": "python",
   "pygments_lexer": "ipython3",
   "version": "3.11.11"
  }
 },
 "nbformat": 4,
 "nbformat_minor": 5
}
