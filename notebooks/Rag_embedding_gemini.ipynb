{
 "cells": [
  {
   "cell_type": "code",
   "execution_count": null,
   "id": "f6765e07-ff7f-4429-8d17-9fdb9ff249f9",
   "metadata": {},
   "outputs": [],
   "source": [
    "import os\n",
    "import pickle\n",
    "from utilsgemini import fix_vector_store\n",
    "\n",
    "# Configuration\n",
    "num = 4\n",
    "txt_folder = \"txt_folder"\n",
    "embedding_file = f\"{txt_folder}_h_{num}ZZ_{num}_gemini.pkl\"\n",
    "\n",
    "# Check if file exists\n",
    "if not os.path.exists(embedding_file):\n",
    "    raise FileNotFoundError(f\"Embedding file not found: {embedding_file}\")\n",
    "else:\n",
    "    print(f\"Embedding file found: {embedding_file}\")\n",
    "\n",
    "# Run the fix function\n",
    "fix_vector_store(embedding_file)\n",
    "\n",
    "# Output file is saved automatically with \"_fix.pkl\" suffix\n",
    "fixed_file = embedding_file.replace(\".pkl\", \"_fix.pkl\")\n",
    "if os.path.exists(fixed_file):\n",
    "    print(f\"✅ Fixed embedding saved to: {fixed_file}\")\n",
    "else:\n",
    "    print(\"⚠️ Fix failed or file not saved.\")\n"
   ]
  }
 ],
 "metadata": {
  "kernelspec": {
   "display_name": "Python 3 (ipykernel)",
   "language": "python",
   "name": "python3"
  },
  "language_info": {
   "codemirror_mode": {
    "name": "ipython",
    "version": 3
   },
   "file_extension": ".py",
   "mimetype": "text/x-python",
   "name": "python",
   "nbconvert_exporter": "python",
   "pygments_lexer": "ipython3",
   "version": "3.10.18"
  }
 },
 "nbformat": 4,
 "nbformat_minor": 5
}
